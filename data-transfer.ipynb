{
 "cells": [
  {
   "cell_type": "code",
   "execution_count": null,
   "metadata": {},
   "outputs": [],
   "source": [
    "import os\n",
    "import pandas as pd\n",
    "from dotenv import load_dotenv\n",
    "import pymssql\n",
    "from sqlalchemy import create_engine"
   ]
  },
  {
   "cell_type": "code",
   "execution_count": null,
   "metadata": {},
   "outputs": [],
   "source": [
    "#Load Secret Environment variables\n",
    "load_dotenv()"
   ]
  },
  {
   "cell_type": "code",
   "execution_count": null,
   "metadata": {},
   "outputs": [],
   "source": [
    "# To run sql statements in jupyter cells\n",
    "%load_ext sql"
   ]
  },
  {
   "cell_type": "code",
   "execution_count": null,
   "metadata": {},
   "outputs": [],
   "source": [
    "# Setup MySQL connection\n",
    "mysql_username = os.getenv('MYSQL_USERNAME')\n",
    "password = os.getenv('MYSQL_PASSWORD')\n",
    "mysql_host = os.getenv('MYSQL_HOST')\n",
    "port = os.getenv('MYSQL_PORT')\n",
    "mysql_database = os.getenv('MYSQL_DATABASE')\n",
    "mysql_connection_string = f\"mysql+pymysql://{mysql_username}:{password}@{mysql_host}:{port}/{mysql_database}\"\n",
    "mysql_short = f\"{mysql_username}@{mysql_host}\"\n",
    "\n",
    "%sql $mysql_connection_string\n",
    "\n",
    "mysql_cnx = create_engine(mysql_connection_string)\n",
    "\n",
    "# Reset variables\n",
    "password = port = mysql_connection_string = None"
   ]
  },
  {
   "cell_type": "code",
   "execution_count": null,
   "metadata": {},
   "outputs": [],
   "source": [
    "# Setup MSSQL connection\n",
    "\n",
    "ms_username = os.getenv('MS_USERNAME')\n",
    "password = os.getenv('MS_PASSWORD')\n",
    "ms_host = os.getenv('MS_HOST')\n",
    "port = os.getenv('MS_PORT')\n",
    "database = os.getenv('MS_DATABASE')\n",
    "ms_connection_string = f\"mssql+pymssql://{ms_username}:{password}@{ms_host}:{port}/{database}\"\n",
    "ms_short = f\"{ms_username}@{ms_host}\"\n",
    "\n",
    "ms_conn: pymssql.Connection = pymssql.connect(\n",
    "    server=f\"{ms_host}:{port}\",\n",
    "    user=ms_username,\n",
    "    password=password,\n",
    "    database=database\n",
    ")\n",
    "\n",
    "\n",
    "%sql $ms_connection_string\n",
    "\n",
    "ms_cnx = create_engine(ms_connection_string)\n",
    "\n",
    "ms_connect = ms_cnx.connect()\n",
    "\n",
    "# Reset variables\n",
    "password = port = database = ms_connection_string = None"
   ]
  },
  {
   "cell_type": "code",
   "execution_count": null,
   "metadata": {},
   "outputs": [],
   "source": [
    "cursor = ms_conn.cursor()\n",
    "for table_file in os.listdir('schemas'):\n",
    "    with open(f'schemas/{table_file}', 'r') as f:\n",
    "        table: str = table_file.split('.')[1]\n",
    "        sql_lines = f.read()\n",
    "        cursor.execute(sql_lines)\n",
    "        # ms_connect.execute(sql_lines)\n",
    "        ms_conn.commit()\n",
    "    \n"
   ]
  },
  {
   "cell_type": "code",
   "execution_count": null,
   "metadata": {},
   "outputs": [],
   "source": [
    "%%sql $ms_short\n",
    "SELECT @@VERSION;"
   ]
  },
  {
   "cell_type": "code",
   "execution_count": null,
   "metadata": {},
   "outputs": [],
   "source": [
    "%%sql $mysql_short activations <<\n",
    "SELECT * \n",
    "FROM activations;"
   ]
  },
  {
   "cell_type": "code",
   "execution_count": null,
   "metadata": {},
   "outputs": [],
   "source": [
    "tables = %sql $mysql_short SELECT table_name FROM information_schema.tables where table_schema = 'equitytest'\n",
    "lst = []\n",
    "for table in tables:\n",
    "    lst.append(table)\n",
    "newlst = [', '.join(map(str, x)) for x in lst]\n",
    "# lst = [] \n",
    "print(newlst)\n",
    "# newlst = []\n"
   ]
  },
  {
   "cell_type": "code",
   "execution_count": null,
   "metadata": {},
   "outputs": [],
   "source": [
    "%%sql $ms_short\n",
    "SELECT table_catalog[database], table_schema[schema], table_name[name], table_type[type]\n",
    "FROM INFORMATION_SCHEMA.TABLES\n"
   ]
  },
  {
   "cell_type": "code",
   "execution_count": null,
   "metadata": {},
   "outputs": [],
   "source": [
    "%%sql $ms_short \n",
    "SELECT * FROM activations;"
   ]
  },
  {
   "cell_type": "code",
   "execution_count": null,
   "metadata": {},
   "outputs": [],
   "source": [
    "has_identity_sql"
   ]
  },
  {
   "cell_type": "code",
   "execution_count": null,
   "metadata": {},
   "outputs": [],
   "source": [
    "ls = \"activations\"\n",
    "has_identity_sql = f\"SELECT OBJECTPROPERTY(OBJECT_ID('{ls}'), 'TableHasIdentity')\"\n",
    "%sql $ms_short has_identity << $has_identity_sql\n",
    "has_identity\n"
   ]
  },
  {
   "cell_type": "code",
   "execution_count": null,
   "metadata": {},
   "outputs": [],
   "source": [
    "%%sql $ms_short\n",
    "SELECT OBJECTPROPERTY(OBJECT_ID('activations'), 'TableHasIdentity');\n"
   ]
  },
  {
   "cell_type": "code",
   "execution_count": null,
   "metadata": {},
   "outputs": [],
   "source": [
    "has_identity[0][0]"
   ]
  },
  {
   "cell_type": "code",
   "execution_count": null,
   "metadata": {},
   "outputs": [],
   "source": [
    "# print(len(newlst))\n",
    "for ls in newlst:\n",
    "    %sql $mysql_short source_data << SELECT * FROM {mysql_database}.$ls\n",
    "    identity_insert: str = f\"SET IDENTITY_INSERT [{ls}] ON;\"\n",
    "    has_identity_sql = f\"SELECT OBJECTPROPERTY(OBJECT_ID('{ls}'), 'TableHasIdentity')\"\n",
    "    %sql $ms_short has_identity << $has_identity_sql\n",
    "    if has_identity[0][0]:\n",
    "        ms_connect.execute(identity_insert)\n",
    "    else:\n",
    "        print(f\"{ls} has no identity\")\n",
    "    source_df: pd.DataFrame = source_data.DataFrame()\n",
    "    source_df.replace('0000-00-00', '0001-01-01', inplace=True)\n",
    "    # ms_conn.commit()\n",
    "    print(f\"\"\"{ls} {source_df.to_sql(\n",
    "        f\"{ls}\",\n",
    "        con=ms_connect,\n",
    "        if_exists=\"append\",\n",
    "        index=None\n",
    "    )}\"\"\")\n",
    "    identity_insert_off: str = f\"SET IDENTITY_INSERT [{ls}] OFF;\"\n",
    "    # cursor.execute(identity_insert_off)\n",
    "    if has_identity[0][0]:\n",
    "        ms_connect.execute(identity_insert_off)\n",
    "    # ms_conn.commit()\n"
   ]
  },
  {
   "cell_type": "code",
   "execution_count": null,
   "metadata": {},
   "outputs": [],
   "source": [
    "%%sql $ms_short\n",
    "SELECT * from [users]\n"
   ]
  },
  {
   "cell_type": "code",
   "execution_count": null,
   "metadata": {},
   "outputs": [],
   "source": [
    "%sql $mysql_short source_data << SELECT * FROM activations\n"
   ]
  },
  {
   "cell_type": "code",
   "execution_count": null,
   "metadata": {},
   "outputs": [],
   "source": [
    "for ls in newlst:\n",
    "    %sql $mysql_short source_data << SELECT * FROM $ls\n",
    "    source_df: pd.DataFrame = source_data.DataFrame()\n",
    "    columns_list: list = list(source_df.columns)\n",
    "    insertion_string = f\"\"\"\n",
    "    INSERT INTO {ls}({str(columns_list)[1:-1]})\n",
    "    \"\"\"\n",
    "    for i in range(len(source_data)):\n",
    "        row_string: str = \"\"\n",
    "        for column in columns_list:\n",
    "            row_string += f\"{source_df.loc[i, column]},\"\n",
    "        row_string = f\"VAlUES({row_string})\\n\"\n",
    "        insertion_string += row_string\n",
    "    print(insertion_string)"
   ]
  },
  {
   "cell_type": "code",
   "execution_count": null,
   "metadata": {},
   "outputs": [],
   "source": [
    "str(list(source_data.DataFrame().columns))[1:-1]"
   ]
  },
  {
   "cell_type": "code",
   "execution_count": null,
   "metadata": {},
   "outputs": [],
   "source": [
    "source_data.DataFrame()"
   ]
  },
  {
   "cell_type": "code",
   "execution_count": null,
   "metadata": {},
   "outputs": [],
   "source": [
    "for i in range(4):\n",
    "    print(source_data.DataFrame().loc[i, \"updated_at\"])"
   ]
  }
 ],
 "metadata": {
  "kernelspec": {
   "display_name": "Python 3 (ipykernel)",
   "language": "python",
   "name": "python3"
  },
  "language_info": {
   "codemirror_mode": {
    "name": "ipython",
    "version": 3
   },
   "file_extension": ".py",
   "mimetype": "text/x-python",
   "name": "python",
   "nbconvert_exporter": "python",
   "pygments_lexer": "ipython3",
   "version": "3.9.4"
  },
  "vscode": {
   "interpreter": {
    "hash": "62df2dfd362a192ba886771726b4df07c53cfb732e73a98d92e82727ed109448"
   }
  }
 },
 "nbformat": 4,
 "nbformat_minor": 2
}
